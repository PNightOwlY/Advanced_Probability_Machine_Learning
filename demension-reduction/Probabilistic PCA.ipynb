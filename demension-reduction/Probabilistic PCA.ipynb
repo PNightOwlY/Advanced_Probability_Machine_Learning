{
 "cells": [
  {
   "cell_type": "code",
   "execution_count": 1,
   "metadata": {},
   "outputs": [],
   "source": [
    "%matplotlib inline\n",
    "\n",
    "import numpy as np\n",
    "import matplotlib.pyplot as plt\n",
    "\n",
    "import torch\n",
    "from torch import optim\n",
    "from torchvision import datasets, transforms\n",
    "\n",
    "# use GPU for computation if possible\n",
    "device = torch.device('cuda' if torch.cuda.is_available() else 'cpu')"
   ]
  },
  {
   "cell_type": "code",
   "execution_count": null,
   "metadata": {},
   "outputs": [],
   "source": [
    "# download and extract the MNIST data set\n",
    "trainset = datasets.MNIST(root='./data', train=True, download=True,\n",
    "                         transform=transforms.ToTensor())\n",
    "testset = datasets.MNIST(root='./data', train=False, download=True,\n",
    "                        transform=transforms.ToTensor())\n",
    "\n",
    "# extract a complete Pytorch dataset\n",
    "def extract(dataset):\n",
    "    datasize = len(dataset)\n",
    "    dataloader = torch.utils.data.DataLoader(dataset, batch_size=datasize, shuffle=False)\n",
    "    return next(iter(dataloader))\n",
    "\n",
    "\n",
    "# extract all training and test images and labels into Pytorch tensors\n",
    "train_images, train_labels = extract(trainset)\n",
    "test_images, test_labels = extract(testset)\n",
    "\n",
    "# flatten all training and test images to vectors with 28 x 28 = 784 entries\n",
    "# and move to the GPU if available\n",
    "train_images = train_"
   ]
  }
 ],
 "metadata": {
  "kernelspec": {
   "display_name": "Python 3",
   "language": "python",
   "name": "python3"
  },
  "language_info": {
   "codemirror_mode": {
    "name": "ipython",
    "version": 3
   },
   "file_extension": ".py",
   "mimetype": "text/x-python",
   "name": "python",
   "nbconvert_exporter": "python",
   "pygments_lexer": "ipython3",
   "version": "3.7.8"
  }
 },
 "nbformat": 4,
 "nbformat_minor": 2
}
